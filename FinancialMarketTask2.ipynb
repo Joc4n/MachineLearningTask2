{
  "nbformat": 4,
  "nbformat_minor": 0,
  "metadata": {
    "colab": {
      "provenance": []
    },
    "kernelspec": {
      "name": "python3",
      "display_name": "Python 3"
    },
    "language_info": {
      "name": "python"
    }
  },
  "cells": [
    {
      "cell_type": "code",
      "execution_count": 2,
      "metadata": {
        "colab": {
          "base_uri": "https://localhost:8080/"
        },
        "id": "H0NMzBpkALgz",
        "outputId": "ec99edf4-5cd7-4f3c-bebf-74c09e123ffd"
      },
      "outputs": [
        {
          "output_type": "stream",
          "name": "stdout",
          "text": [
            "                              Model  Train MSE  Test MSE  Train RMSE  \\\n",
            "0                 Linear Regression  10.011343  9.401378    3.164071   \n",
            "1  Polynomial Regression (degree 3)   1.384985  1.348389    1.176854   \n",
            "\n",
            "   Test RMSE  Train R^2  Test R^2  \n",
            "0   3.066167   0.648596   0.67816  \n",
            "1   1.161202   0.951386   0.95384  \n"
          ]
        }
      ],
      "source": [
        "import pandas as pd\n",
        "from sklearn.linear_model import LinearRegression\n",
        "from sklearn.preprocessing import PolynomialFeatures\n",
        "from sklearn.metrics import mean_squared_error, r2_score\n",
        "from sklearn.model_selection import train_test_split\n",
        "import numpy as np\n",
        "\n",
        "# Load the dataset\n",
        "file_path = '/content/sample_data/FinancialMarket.csv'\n",
        "data = pd.read_csv(file_path)\n",
        "\n",
        "# Separate features (X) and target variable (y)\n",
        "X = data[['x']].values  # Feature (independent variable)\n",
        "y = data['combined_data'].values  # Target (dependent variable)\n",
        "\n",
        "# Split the data into training and testing sets (80% train, 20% test)\n",
        "X_train, X_test, y_train, y_test = train_test_split(X, y, test_size=0.2, random_state=42)\n",
        "\n",
        "# 1. Simple Linear Regression Model\n",
        "# Initialize and train a simple linear regression model\n",
        "linear_model = LinearRegression()\n",
        "linear_model.fit(X_train, y_train)\n",
        "\n",
        "# Make predictions for training and testing sets\n",
        "y_pred_linear_train = linear_model.predict(X_train)\n",
        "y_pred_linear_test = linear_model.predict(X_test)\n",
        "\n",
        "# Calculate metrics for the simple linear regression model\n",
        "mse_linear_train = mean_squared_error(y_train, y_pred_linear_train)\n",
        "mse_linear_test = mean_squared_error(y_test, y_pred_linear_test)\n",
        "rmse_linear_train = np.sqrt(mse_linear_train)\n",
        "rmse_linear_test = np.sqrt(mse_linear_test)\n",
        "r2_linear_train = r2_score(y_train, y_pred_linear_train)\n",
        "r2_linear_test = r2_score(y_test, y_pred_linear_test)\n",
        "\n",
        "# 2. Polynomial Regression Model with Basis Functions\n",
        "# Specify the degree for polynomial basis functions\n",
        "poly_degree = 3\n",
        "\n",
        "# Create polynomial features based on the specified degree\n",
        "poly = PolynomialFeatures(degree=poly_degree)\n",
        "X_poly_train = poly.fit_transform(X_train)\n",
        "X_poly_test = poly.transform(X_test)\n",
        "\n",
        "# Initialize and train a linear regression model on the polynomial features\n",
        "poly_model = LinearRegression()\n",
        "poly_model.fit(X_poly_train, y_train)\n",
        "\n",
        "# Make predictions for training and testing sets with the polynomial model\n",
        "y_pred_poly_train = poly_model.predict(X_poly_train)\n",
        "y_pred_poly_test = poly_model.predict(X_poly_test)\n",
        "\n",
        "# Calculate metrics for the polynomial regression model\n",
        "mse_poly_train = mean_squared_error(y_train, y_pred_poly_train)\n",
        "mse_poly_test = mean_squared_error(y_test, y_pred_poly_test)\n",
        "rmse_poly_train = np.sqrt(mse_poly_train)\n",
        "rmse_poly_test = np.sqrt(mse_poly_test)\n",
        "r2_poly_train = r2_score(y_train, y_pred_poly_train)\n",
        "r2_poly_test = r2_score(y_test, y_pred_poly_test)\n",
        "\n",
        "# Compile the results for easy comparison\n",
        "results = {\n",
        "    \"Model\": [\"Linear Regression\", \"Polynomial Regression (degree 3)\"],\n",
        "    \"Train MSE\": [mse_linear_train, mse_poly_train],\n",
        "    \"Test MSE\": [mse_linear_test, mse_poly_test],\n",
        "    \"Train RMSE\": [rmse_linear_train, rmse_poly_train],\n",
        "    \"Test RMSE\": [rmse_linear_test, rmse_poly_test],\n",
        "    \"Train R^2\": [r2_linear_train, r2_poly_train],\n",
        "    \"Test R^2\": [r2_linear_test, r2_poly_test]\n",
        "}\n",
        "\n",
        "# Convert results to DataFrame for better readability\n",
        "results_df = pd.DataFrame(results)\n",
        "print(results_df)\n"
      ]
    }
  ]
}